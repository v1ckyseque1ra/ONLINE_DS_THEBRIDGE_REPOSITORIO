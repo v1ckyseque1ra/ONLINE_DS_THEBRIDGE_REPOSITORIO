{
  "cells": [
    {
      "cell_type": "markdown",
      "metadata": {
        "id": "view-in-github",
        "colab_type": "text"
      },
      "source": [
        "<a href=\"https://colab.research.google.com/github/v1ckyseque1ra/ONLINE_DS_THEBRIDGE_REPOSITORIO/blob/main/11_Ejercicios_Python_Basisc_I_3.ipynb\" target=\"_parent\"><img src=\"https://colab.research.google.com/assets/colab-badge.svg\" alt=\"Open In Colab\"/></a>"
      ]
    },
    {
      "cell_type": "markdown",
      "metadata": {
        "id": "TfXHJqK69o8Q"
      },
      "source": [
        "![imagen](./img/ejercicios.png)"
      ]
    },
    {
      "cell_type": "markdown",
      "metadata": {
        "id": "-N-eUPX69o8R"
      },
      "source": [
        "## EJERCICIOS PYTHON BASICO 3:\n",
        "## Operaciones matemáticas, comparación y booleanas"
      ]
    },
    {
      "cell_type": "markdown",
      "metadata": {
        "id": "2_BHHpMv9o8T"
      },
      "source": [
        "Completa los siguiente ejercicios, la solución completa a los mismos se publicarán en el repo del curso a lo largo del sprint. En algunos ejercicios se muestra la solución final, para que puedas comprobar que lo has hecho bien, pero lo importante es el código que generes. ¡Vaaamos, a ello...!"
      ]
    },
    {
      "cell_type": "markdown",
      "metadata": {
        "id": "Z7iuHcHU9o8U"
      },
      "source": [
        "![ejercicio.png](./img/ejercicio.png)\n",
        "\n",
        "\n",
        "## Ejercicio 1\n",
        "Tenemos las siguientes variables:\n",
        "\n",
        "```Python\n",
        "A = 4\n",
        "B = \"Text\"\n",
        "\n",
        "C = 4.1\n",
        "```\n",
        "\n",
        "Comprueba:\n",
        "1. Si A y B son equivalentes\n",
        "2. Si A y C NO son equivalentes\n",
        "3. Si A es mayor que C\n",
        "4. Si C es menor o igual que A\n",
        "5. Si B NO es equivalente a C"
      ]
    },
    {
      "cell_type": "code",
      "execution_count": 9,
      "metadata": {
        "colab": {
          "base_uri": "https://localhost:8080/"
        },
        "id": "e6aa6CnY9o8V",
        "outputId": "b7e30ea0-7679-4c95-bf22-de34052210df"
      },
      "outputs": [
        {
          "output_type": "execute_result",
          "data": {
            "text/plain": [
              "True"
            ]
          },
          "metadata": {},
          "execution_count": 9
        }
      ],
      "source": [
        "A = 4\n",
        "B = \"Text\"\n",
        "C = 4.1\n",
        "\n",
        "\n"
      ]
    },
    {
      "cell_type": "code",
      "source": [
        "print(A == B)\n",
        "print(A != C)\n",
        "print(A > C)\n",
        "print(C <= A)\n",
        "print(B != C)"
      ],
      "metadata": {
        "colab": {
          "base_uri": "https://localhost:8080/"
        },
        "id": "_87KTzP4-96h",
        "outputId": "1390df84-7330-4377-c59a-66b9decf7002"
      },
      "execution_count": 12,
      "outputs": [
        {
          "output_type": "stream",
          "name": "stdout",
          "text": [
            "False\n",
            "True\n",
            "False\n",
            "False\n",
            "True\n"
          ]
        }
      ]
    },
    {
      "cell_type": "markdown",
      "metadata": {
        "id": "QRWgwxYU9o8X"
      },
      "source": [
        "![ejercicio.png](./img/ejercicio.png)\n",
        "\n",
        "## Ejercicio 2\n",
        "Crea un programa donde se recojan dos inputs del usuario, y el output del programa sea si esos inputs son iguales o no"
      ]
    },
    {
      "cell_type": "code",
      "execution_count": 15,
      "metadata": {
        "colab": {
          "base_uri": "https://localhost:8080/"
        },
        "id": "DlXb5XUZ9o8Y",
        "outputId": "306da879-8967-4dd8-b66f-9cfec48d0cbb"
      },
      "outputs": [
        {
          "output_type": "stream",
          "name": "stdout",
          "text": [
            "Inserte una letraA\n",
            "inserte otra letraA\n",
            "True\n"
          ]
        }
      ],
      "source": [
        "input1 = input(\"Inserte una letra \")\n",
        "input2 = input(\"inserte otra letra \")\n",
        "\n",
        "print(input1 == input2)\n"
      ]
    },
    {
      "cell_type": "markdown",
      "metadata": {
        "id": "Eg4PYVFQ9o8Y"
      },
      "source": [
        "![ejercicio.png](./img/ejercicio.png)\n",
        "\n",
        "1.   List item\n",
        "2.   List item\n",
        "\n",
        "\n",
        "\n",
        "## Ejercicio 3\n",
        "Mismo programa que en 2, pero en esta ocasión tienen que ser tres inputs y dos salidas. Una de las salidas que nos indique si todos son iguales, y la otra si al menos dos inputs sí que lo son"
      ]
    },
    {
      "cell_type": "code",
      "execution_count": null,
      "metadata": {
        "id": "4tzcVMnj9o8Z",
        "outputId": "67bd9965-dd37-4405-d1df-495bce7417c3"
      },
      "outputs": [
        {
          "name": "stdout",
          "output_type": "stream",
          "text": [
            "Todos son iguales: False\n",
            "Todos son iguales: False\n"
          ]
        }
      ],
      "source": []
    },
    {
      "cell_type": "code",
      "execution_count": 18,
      "metadata": {
        "outputId": "15055ef9-edcd-4125-aa9f-3fd2f80c7396",
        "colab": {
          "base_uri": "https://localhost:8080/"
        },
        "id": "qSfk8WYpBh24"
      },
      "outputs": [
        {
          "output_type": "stream",
          "name": "stdout",
          "text": [
            "Inserte la primer letra B\n",
            "inserte la segunda letra X\n",
            "Inserte la tercera letra a\n",
            "False\n",
            "False\n"
          ]
        }
      ],
      "source": [
        "input1 = input(\"Inserte la primer letra \")\n",
        "input2 = input(\"inserte la segunda letra \")\n",
        "input3 = input(\"Inserte la tercera letra \")\n",
        "\n",
        "print(input1 == input2 and input1 == input3 and input2 == input3)\n",
        "print(input1 == input2 or input2 == input3)\n"
      ]
    },
    {
      "cell_type": "markdown",
      "metadata": {
        "id": "LbU55S9R9o8a"
      },
      "source": [
        "![ejercicio.png](./img/ejercicio.png)\n",
        "\n",
        "## Ejercicio 4\n",
        "Razona sin ejecutar código el output que obtendremos de las siguientes sentencias\n",
        "1. True and True and False\n",
        "2. not ((True or False) and (T`rue or False))\n",
        "3. (False or False or False or True) and False\n",
        "4. not False and True and not True"
      ]
    },
    {
      "cell_type": "markdown",
      "metadata": {
        "id": "lC4vKxM39o8a"
      },
      "source": [
        "1. False\n",
        "2. False\n",
        "3. False\n",
        "4. False\n",
        "\n",
        "*italicized text*"
      ]
    }
  ],
  "metadata": {
    "kernelspec": {
      "display_name": "Curso_Online_DATA",
      "language": "python",
      "name": "python3"
    },
    "language_info": {
      "codemirror_mode": {
        "name": "ipython",
        "version": 3
      },
      "file_extension": ".py",
      "mimetype": "text/x-python",
      "name": "python",
      "nbconvert_exporter": "python",
      "pygments_lexer": "ipython3",
      "version": "3.11.5"
    },
    "orig_nbformat": 4,
    "colab": {
      "provenance": [],
      "include_colab_link": true
    }
  },
  "nbformat": 4,
  "nbformat_minor": 0
}