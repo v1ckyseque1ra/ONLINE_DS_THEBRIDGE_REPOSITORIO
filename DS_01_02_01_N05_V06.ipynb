{
  "cells": [
    {
      "cell_type": "markdown",
      "metadata": {
        "id": "view-in-github",
        "colab_type": "text"
      },
      "source": [
        "<a href=\"https://colab.research.google.com/github/v1ckyseque1ra/ONLINE_DS_THEBRIDGE_REPOSITORIO/blob/main/DS_01_02_01_N05_V06.ipynb\" target=\"_parent\"><img src=\"https://colab.research.google.com/assets/colab-badge.svg\" alt=\"Open In Colab\"/></a>"
      ]
    },
    {
      "cell_type": "markdown",
      "metadata": {
        "id": "4Gb6JCXLL30e"
      },
      "source": [
        "![TheBridge_Python_v0.png](attachment:TheBridge_Python_v0.png)"
      ]
    },
    {
      "cell_type": "markdown",
      "metadata": {
        "id": "dB_YchZYL30g"
      },
      "source": [
        "##  Funciones de usuario I   \n"
      ]
    },
    {
      "cell_type": "markdown",
      "metadata": {
        "id": "Vgu9mcvTL30h"
      },
      "source": [
        "### Contenidos\n"
      ]
    },
    {
      "cell_type": "markdown",
      "metadata": {
        "id": "ArYBjOOJL30i"
      },
      "source": [
        "* [Introducción  ](#Introducción--)\n",
        "\n",
        "* [Ejemplos](#Ejemplos)\n",
        "\n"
      ]
    },
    {
      "cell_type": "markdown",
      "metadata": {
        "id": "s8BA_ZOyL30i"
      },
      "source": [
        "### Introducción  \n",
        "[al indice](#Contenidos)  \n",
        "\n",
        "\n",
        "En este notebook tienes la primera parte de una guía para orientarte en el uso de funciones en Python... pero antes de seguir con todo el \"rollo...\"\n",
        "\n",
        "\n"
      ]
    },
    {
      "cell_type": "markdown",
      "metadata": {
        "id": "lsYSfBrqL30j"
      },
      "source": [
        "### Contenidos"
      ]
    },
    {
      "cell_type": "markdown",
      "metadata": {
        "id": "6CIJy9TAL30j"
      },
      "source": [
        "\n",
        "### Definición y sintaxis\n",
        "\n",
        "Se trata de bloques de código que encapsulan una serie de operaciones. Se usan para modular nuestro código y evitar escribir código de más.  \n",
        "\n",
        "Mediante las **funciones** podemos encapsular código en formato entrada/salida. Por lo que si tienes un código repetitivo, que depende de ciertos inputs, las funciones pueden ser una buena solución.\n",
        "\n",
        "![funciones.png](./img/funciones.png)\n",
        "\n",
        "Es una manera de agrupar conjuntos de operaciones en módulos. **¿Cuándo usarlas?** Cuando tengamos varias operaciones que ejecutamos repetidamente en distintas partes del código. En ese caso, encapsulamos las operaciones en una función, y cada vez que haya que realizar tal operativa, llamamos a la función, y en una sola línea de código tenemos ejecutada esas operaciones.\n",
        "\n",
        "Hasta ahora hemos estado utilizando funciones *built-in*, para operaciones sencillas como `len()`, `sum()` o `max()`. En este Notebook aprenderas a crear tus propias funciones.\n",
        "\n",
        "La sintaxis es:\n",
        "> ```Python\n",
        "> def nombre_funcion(entrada):\n",
        ">    operaciones varias\n",
        ">    return output\n",
        "> ```\n",
        "\n",
        "Fíjate que sigue la **sintaxis de línea** vista en Notebooks anteriores (tabulación detrás de los dos puntos, por ejemplo).  \n",
        "\n",
        "Además, todo lo que va después del `return` es ignorado, puesto que es la salida. En el `return` acaba la función. Ahora bien, eso no quiere decir que haya un único return. Si introducimos una sentencia `if/else`, podremos poner returns diferentes dependiendo de qué condición se cumpla."
      ]
    },
    {
      "cell_type": "markdown",
      "metadata": {
        "id": "IPMJvVJHL30k"
      },
      "source": [
        "### Ejemplos\n",
        "[al indice](#Contenidos)  \n",
        "\n",
        "\n",
        "Vamos a crear nuestra primera función"
      ]
    },
    {
      "cell_type": "code",
      "execution_count": 1,
      "metadata": {
        "id": "_MJxHWasL30l"
      },
      "outputs": [],
      "source": [
        "# Vamos a crear un conversor de km a millas\n",
        "\n",
        "def conversor(distancia):\n",
        "  millas = 0.62 * distancia\n",
        "  return millas\n",
        ""
      ]
    },
    {
      "cell_type": "markdown",
      "metadata": {
        "id": "jx4DFiNnL30m"
      },
      "source": [
        "Al ejecutar el código anterior, no corre nada, simplemente almacenamos en memoria la función para usarla posteriormente. **Ahora podremos llamar a la función tantas veces como queramos, desde cualquier parte del codigo.**"
      ]
    },
    {
      "cell_type": "code",
      "execution_count": 5,
      "metadata": {
        "id": "6qRDRZF8L30m",
        "outputId": "6f758ddd-9038-497a-f23e-02f86dfe432d",
        "colab": {
          "base_uri": "https://localhost:8080/"
        }
      },
      "outputs": [
        {
          "output_type": "stream",
          "name": "stdout",
          "text": [
            "124.0\n"
          ]
        }
      ],
      "source": [
        "conversor(200)\n",
        "\n",
        "Millas = conversor(200)\n",
        "print(Millas)"
      ]
    },
    {
      "cell_type": "markdown",
      "metadata": {
        "id": "UjwkFO1QL30m"
      },
      "source": [
        "Las funciones no tienen por qué llevar argumentos. Eso sí, **es obligatorio** poner los parentesis, tanto en la declaración, como luego al llamar la función."
      ]
    },
    {
      "cell_type": "code",
      "execution_count": 7,
      "metadata": {
        "id": "Oy4nCWckL30n"
      },
      "outputs": [],
      "source": [
        "from datetime import datetime\n",
        "\n",
        "def hora():\n",
        "  now = datetime.now().time()\n",
        "  return now\n"
      ]
    },
    {
      "cell_type": "code",
      "execution_count": 9,
      "metadata": {
        "id": "HFvILNY-L30n",
        "outputId": "152e2442-44cd-44e1-fa70-634b823280e1",
        "colab": {
          "base_uri": "https://localhost:8080/"
        }
      },
      "outputs": [
        {
          "output_type": "stream",
          "name": "stdout",
          "text": [
            "12:40:43.042013\n"
          ]
        }
      ],
      "source": [
        "print(hora())"
      ]
    },
    {
      "cell_type": "code",
      "source": [],
      "metadata": {
        "id": "wj9Z8Q86M4NP"
      },
      "execution_count": null,
      "outputs": []
    }
  ],
  "metadata": {
    "kernelspec": {
      "display_name": "Python 3 (ipykernel)",
      "language": "python",
      "name": "python3"
    },
    "language_info": {
      "codemirror_mode": {
        "name": "ipython",
        "version": 3
      },
      "file_extension": ".py",
      "mimetype": "text/x-python",
      "name": "python",
      "nbconvert_exporter": "python",
      "pygments_lexer": "ipython3",
      "version": "3.9.7"
    },
    "colab": {
      "provenance": [],
      "include_colab_link": true
    }
  },
  "nbformat": 4,
  "nbformat_minor": 0
}